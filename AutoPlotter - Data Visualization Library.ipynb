{
 "cells": [
  {
   "cell_type": "markdown",
   "metadata": {},
   "source": [
    "# Autoplotter\n"
   ]
  },
  {
   "cell_type": "code",
   "execution_count": 3,
   "metadata": {},
   "outputs": [
    {
     "name": "stdout",
     "output_type": "stream",
     "text": [
      "Collecting autoplotter\n",
      "  Downloading autoplotter-0.1.0.tar.gz (21 kB)\n",
      "Requirement already satisfied: dash in c:\\users\\ujwal\\anaconda3\\lib\\site-packages (from autoplotter) (1.20.0)\n",
      "Requirement already satisfied: dash_bootstrap_components in c:\\users\\ujwal\\anaconda3\\lib\\site-packages (from autoplotter) (0.12.2)\n",
      "Requirement already satisfied: pandas in c:\\users\\ujwal\\anaconda3\\lib\\site-packages (from autoplotter) (1.2.3)\n",
      "Requirement already satisfied: dash_table in c:\\users\\ujwal\\anaconda3\\lib\\site-packages (from autoplotter) (4.11.3)\n",
      "Requirement already satisfied: numpy in c:\\users\\ujwal\\anaconda3\\lib\\site-packages (from autoplotter) (1.19.2)\n",
      "Collecting jupyter-dash\n",
      "  Downloading jupyter_dash-0.4.0-py3-none-any.whl (20 kB)\n",
      "Requirement already satisfied: Flask>=1.0.4 in c:\\users\\ujwal\\anaconda3\\lib\\site-packages (from dash->autoplotter) (1.1.2)\n",
      "Requirement already satisfied: future in c:\\users\\ujwal\\anaconda3\\lib\\site-packages (from dash->autoplotter) (0.18.2)\n",
      "Requirement already satisfied: dash-core-components==1.16.0 in c:\\users\\ujwal\\anaconda3\\lib\\site-packages (from dash->autoplotter) (1.16.0)\n",
      "Requirement already satisfied: flask-compress in c:\\users\\ujwal\\anaconda3\\lib\\site-packages (from dash->autoplotter) (1.9.0)\n",
      "Requirement already satisfied: dash-renderer==1.9.1 in c:\\users\\ujwal\\anaconda3\\lib\\site-packages (from dash->autoplotter) (1.9.1)\n",
      "Requirement already satisfied: plotly in c:\\users\\ujwal\\anaconda3\\lib\\site-packages (from dash->autoplotter) (4.14.3)\n",
      "Requirement already satisfied: dash-html-components==1.1.3 in c:\\users\\ujwal\\anaconda3\\lib\\site-packages (from dash->autoplotter) (1.1.3)\n",
      "Requirement already satisfied: python-dateutil>=2.7.3 in c:\\users\\ujwal\\anaconda3\\lib\\site-packages (from pandas->autoplotter) (2.8.1)\n",
      "Requirement already satisfied: pytz>=2017.3 in c:\\users\\ujwal\\anaconda3\\lib\\site-packages (from pandas->autoplotter) (2020.1)\n",
      "Requirement already satisfied: retrying in c:\\users\\ujwal\\anaconda3\\lib\\site-packages (from jupyter-dash->autoplotter) (1.3.3)\n",
      "Collecting ansi2html\n",
      "  Downloading ansi2html-1.6.0-py3-none-any.whl (14 kB)\n",
      "Requirement already satisfied: requests in c:\\users\\ujwal\\anaconda3\\lib\\site-packages (from jupyter-dash->autoplotter) (2.24.0)\n",
      "Requirement already satisfied: ipykernel in c:\\users\\ujwal\\anaconda3\\lib\\site-packages (from jupyter-dash->autoplotter) (5.3.4)\n",
      "Requirement already satisfied: ipython in c:\\users\\ujwal\\anaconda3\\lib\\site-packages (from jupyter-dash->autoplotter) (7.19.0)\n",
      "Requirement already satisfied: Werkzeug>=0.15 in c:\\users\\ujwal\\anaconda3\\lib\\site-packages (from Flask>=1.0.4->dash->autoplotter) (1.0.1)\n",
      "Requirement already satisfied: itsdangerous>=0.24 in c:\\users\\ujwal\\anaconda3\\lib\\site-packages (from Flask>=1.0.4->dash->autoplotter) (1.1.0)\n",
      "Requirement already satisfied: Jinja2>=2.10.1 in c:\\users\\ujwal\\anaconda3\\lib\\site-packages (from Flask>=1.0.4->dash->autoplotter) (2.11.2)\n",
      "Requirement already satisfied: click>=5.1 in c:\\users\\ujwal\\anaconda3\\lib\\site-packages (from Flask>=1.0.4->dash->autoplotter) (7.1.2)\n",
      "Requirement already satisfied: brotli in c:\\users\\ujwal\\anaconda3\\lib\\site-packages (from flask-compress->dash->autoplotter) (1.0.9)\n",
      "Requirement already satisfied: six in c:\\users\\ujwal\\anaconda3\\lib\\site-packages (from plotly->dash->autoplotter) (1.15.0)\n",
      "Requirement already satisfied: chardet<4,>=3.0.2 in c:\\users\\ujwal\\anaconda3\\lib\\site-packages (from requests->jupyter-dash->autoplotter) (3.0.4)\n",
      "Requirement already satisfied: urllib3!=1.25.0,!=1.25.1,<1.26,>=1.21.1 in c:\\users\\ujwal\\anaconda3\\lib\\site-packages (from requests->jupyter-dash->autoplotter) (1.25.11)\n",
      "Requirement already satisfied: idna<3,>=2.5 in c:\\users\\ujwal\\anaconda3\\lib\\site-packages (from requests->jupyter-dash->autoplotter) (2.10)\n",
      "Requirement already satisfied: certifi>=2017.4.17 in c:\\users\\ujwal\\anaconda3\\lib\\site-packages (from requests->jupyter-dash->autoplotter) (2020.6.20)\n",
      "Requirement already satisfied: jupyter-client in c:\\users\\ujwal\\anaconda3\\lib\\site-packages (from ipykernel->jupyter-dash->autoplotter) (6.1.7)\n",
      "Requirement already satisfied: tornado>=4.2 in c:\\users\\ujwal\\anaconda3\\lib\\site-packages (from ipykernel->jupyter-dash->autoplotter) (6.1)\n",
      "Requirement already satisfied: traitlets>=4.1.0 in c:\\users\\ujwal\\anaconda3\\lib\\site-packages (from ipykernel->jupyter-dash->autoplotter) (5.0.5)\n",
      "Requirement already satisfied: jedi>=0.10 in c:\\users\\ujwal\\anaconda3\\lib\\site-packages (from ipython->jupyter-dash->autoplotter) (0.17.1)\n",
      "Requirement already satisfied: prompt-toolkit!=3.0.0,!=3.0.1,<3.1.0,>=2.0.0 in c:\\users\\ujwal\\anaconda3\\lib\\site-packages (from ipython->jupyter-dash->autoplotter) (3.0.8)\n",
      "Requirement already satisfied: decorator in c:\\users\\ujwal\\anaconda3\\lib\\site-packages (from ipython->jupyter-dash->autoplotter) (4.4.2)\n",
      "Requirement already satisfied: colorama; sys_platform == \"win32\" in c:\\users\\ujwal\\anaconda3\\lib\\site-packages (from ipython->jupyter-dash->autoplotter) (0.4.4)\n",
      "Requirement already satisfied: backcall in c:\\users\\ujwal\\anaconda3\\lib\\site-packages (from ipython->jupyter-dash->autoplotter) (0.2.0)\n",
      "Requirement already satisfied: setuptools>=18.5 in c:\\users\\ujwal\\anaconda3\\lib\\site-packages (from ipython->jupyter-dash->autoplotter) (50.3.1.post20201107)\n",
      "Requirement already satisfied: pickleshare in c:\\users\\ujwal\\anaconda3\\lib\\site-packages (from ipython->jupyter-dash->autoplotter) (0.7.5)\n",
      "Requirement already satisfied: pygments in c:\\users\\ujwal\\anaconda3\\lib\\site-packages (from ipython->jupyter-dash->autoplotter) (2.7.2)\n",
      "Requirement already satisfied: MarkupSafe>=0.23 in c:\\users\\ujwal\\anaconda3\\lib\\site-packages (from Jinja2>=2.10.1->Flask>=1.0.4->dash->autoplotter) (1.1.1)\n",
      "Requirement already satisfied: jupyter-core>=4.6.0 in c:\\users\\ujwal\\anaconda3\\lib\\site-packages (from jupyter-client->ipykernel->jupyter-dash->autoplotter) (4.6.3)\n",
      "Requirement already satisfied: pyzmq>=13 in c:\\users\\ujwal\\anaconda3\\lib\\site-packages (from jupyter-client->ipykernel->jupyter-dash->autoplotter) (19.0.2)\n",
      "Requirement already satisfied: ipython-genutils in c:\\users\\ujwal\\anaconda3\\lib\\site-packages (from traitlets>=4.1.0->ipykernel->jupyter-dash->autoplotter) (0.2.0)\n",
      "Requirement already satisfied: parso<0.8.0,>=0.7.0 in c:\\users\\ujwal\\anaconda3\\lib\\site-packages (from jedi>=0.10->ipython->jupyter-dash->autoplotter) (0.7.0)\n",
      "Requirement already satisfied: wcwidth in c:\\users\\ujwal\\anaconda3\\lib\\site-packages (from prompt-toolkit!=3.0.0,!=3.0.1,<3.1.0,>=2.0.0->ipython->jupyter-dash->autoplotter) (0.2.5)\n",
      "Requirement already satisfied: pywin32>=1.0; sys_platform == \"win32\" in c:\\users\\ujwal\\anaconda3\\lib\\site-packages (from jupyter-core>=4.6.0->jupyter-client->ipykernel->jupyter-dash->autoplotter) (227)\n",
      "Building wheels for collected packages: autoplotter\n",
      "  Building wheel for autoplotter (setup.py): started\n",
      "  Building wheel for autoplotter (setup.py): finished with status 'done'\n",
      "  Created wheel for autoplotter: filename=autoplotter-0.1.0-py3-none-any.whl size=23010 sha256=1eb034d2abdeee6b1570523d7971b5f50f532bde7b292662b2555f68de95efdf\n",
      "  Stored in directory: c:\\users\\ujwal\\appdata\\local\\pip\\cache\\wheels\\05\\77\\9e\\7a1ab1857495fcd92bceaf12a830224727cc0712557be5888c\n",
      "Successfully built autoplotter\n",
      "Installing collected packages: ansi2html, jupyter-dash, autoplotter\n",
      "Successfully installed ansi2html-1.6.0 autoplotter-0.1.0 jupyter-dash-0.4.0\n",
      "Note: you may need to restart the kernel to use updated packages.\n"
     ]
    }
   ],
   "source": [
    "#pip install autoplotter"
   ]
  },
  {
   "cell_type": "markdown",
   "metadata": {},
   "source": [
    "# Import Libraries"
   ]
  },
  {
   "cell_type": "code",
   "execution_count": 4,
   "metadata": {},
   "outputs": [],
   "source": [
    "from autoplotter import run_app\n",
    "import pandas as pd"
   ]
  },
  {
   "cell_type": "code",
   "execution_count": 5,
   "metadata": {},
   "outputs": [],
   "source": [
    "# Loading the titanic dataset\n",
    "df = pd.read_csv('train.csv')"
   ]
  },
  {
   "cell_type": "code",
   "execution_count": 6,
   "metadata": {},
   "outputs": [
    {
     "data": {
      "text/html": [
       "<div>\n",
       "<style scoped>\n",
       "    .dataframe tbody tr th:only-of-type {\n",
       "        vertical-align: middle;\n",
       "    }\n",
       "\n",
       "    .dataframe tbody tr th {\n",
       "        vertical-align: top;\n",
       "    }\n",
       "\n",
       "    .dataframe thead th {\n",
       "        text-align: right;\n",
       "    }\n",
       "</style>\n",
       "<table border=\"1\" class=\"dataframe\">\n",
       "  <thead>\n",
       "    <tr style=\"text-align: right;\">\n",
       "      <th></th>\n",
       "      <th>PassengerId</th>\n",
       "      <th>Survived</th>\n",
       "      <th>Pclass</th>\n",
       "      <th>Name</th>\n",
       "      <th>Sex</th>\n",
       "      <th>Age</th>\n",
       "      <th>SibSp</th>\n",
       "      <th>Parch</th>\n",
       "      <th>Ticket</th>\n",
       "      <th>Fare</th>\n",
       "      <th>Cabin</th>\n",
       "      <th>Embarked</th>\n",
       "    </tr>\n",
       "  </thead>\n",
       "  <tbody>\n",
       "    <tr>\n",
       "      <th>0</th>\n",
       "      <td>1</td>\n",
       "      <td>0</td>\n",
       "      <td>3</td>\n",
       "      <td>Braund, Mr. Owen Harris</td>\n",
       "      <td>male</td>\n",
       "      <td>22.0</td>\n",
       "      <td>1</td>\n",
       "      <td>0</td>\n",
       "      <td>A/5 21171</td>\n",
       "      <td>7.2500</td>\n",
       "      <td>NaN</td>\n",
       "      <td>S</td>\n",
       "    </tr>\n",
       "    <tr>\n",
       "      <th>1</th>\n",
       "      <td>2</td>\n",
       "      <td>1</td>\n",
       "      <td>1</td>\n",
       "      <td>Cumings, Mrs. John Bradley (Florence Briggs Th...</td>\n",
       "      <td>female</td>\n",
       "      <td>38.0</td>\n",
       "      <td>1</td>\n",
       "      <td>0</td>\n",
       "      <td>PC 17599</td>\n",
       "      <td>71.2833</td>\n",
       "      <td>C85</td>\n",
       "      <td>C</td>\n",
       "    </tr>\n",
       "    <tr>\n",
       "      <th>2</th>\n",
       "      <td>3</td>\n",
       "      <td>1</td>\n",
       "      <td>3</td>\n",
       "      <td>Heikkinen, Miss. Laina</td>\n",
       "      <td>female</td>\n",
       "      <td>26.0</td>\n",
       "      <td>0</td>\n",
       "      <td>0</td>\n",
       "      <td>STON/O2. 3101282</td>\n",
       "      <td>7.9250</td>\n",
       "      <td>NaN</td>\n",
       "      <td>S</td>\n",
       "    </tr>\n",
       "    <tr>\n",
       "      <th>3</th>\n",
       "      <td>4</td>\n",
       "      <td>1</td>\n",
       "      <td>1</td>\n",
       "      <td>Futrelle, Mrs. Jacques Heath (Lily May Peel)</td>\n",
       "      <td>female</td>\n",
       "      <td>35.0</td>\n",
       "      <td>1</td>\n",
       "      <td>0</td>\n",
       "      <td>113803</td>\n",
       "      <td>53.1000</td>\n",
       "      <td>C123</td>\n",
       "      <td>S</td>\n",
       "    </tr>\n",
       "    <tr>\n",
       "      <th>4</th>\n",
       "      <td>5</td>\n",
       "      <td>0</td>\n",
       "      <td>3</td>\n",
       "      <td>Allen, Mr. William Henry</td>\n",
       "      <td>male</td>\n",
       "      <td>35.0</td>\n",
       "      <td>0</td>\n",
       "      <td>0</td>\n",
       "      <td>373450</td>\n",
       "      <td>8.0500</td>\n",
       "      <td>NaN</td>\n",
       "      <td>S</td>\n",
       "    </tr>\n",
       "  </tbody>\n",
       "</table>\n",
       "</div>"
      ],
      "text/plain": [
       "   PassengerId  Survived  Pclass  \\\n",
       "0            1         0       3   \n",
       "1            2         1       1   \n",
       "2            3         1       3   \n",
       "3            4         1       1   \n",
       "4            5         0       3   \n",
       "\n",
       "                                                Name     Sex   Age  SibSp  \\\n",
       "0                            Braund, Mr. Owen Harris    male  22.0      1   \n",
       "1  Cumings, Mrs. John Bradley (Florence Briggs Th...  female  38.0      1   \n",
       "2                             Heikkinen, Miss. Laina  female  26.0      0   \n",
       "3       Futrelle, Mrs. Jacques Heath (Lily May Peel)  female  35.0      1   \n",
       "4                           Allen, Mr. William Henry    male  35.0      0   \n",
       "\n",
       "   Parch            Ticket     Fare Cabin Embarked  \n",
       "0      0         A/5 21171   7.2500   NaN        S  \n",
       "1      0          PC 17599  71.2833   C85        C  \n",
       "2      0  STON/O2. 3101282   7.9250   NaN        S  \n",
       "3      0            113803  53.1000  C123        S  \n",
       "4      0            373450   8.0500   NaN        S  "
      ]
     },
     "execution_count": 6,
     "metadata": {},
     "output_type": "execute_result"
    }
   ],
   "source": [
    "df.head()"
   ]
  },
  {
   "cell_type": "markdown",
   "metadata": {},
   "source": [
    "# Run App"
   ]
  },
  {
   "cell_type": "code",
   "execution_count": 7,
   "metadata": {},
   "outputs": [
    {
     "data": {
      "text/html": [
       "\n",
       "        <iframe\n",
       "            width=\"100%\"\n",
       "            height=\"650\"\n",
       "            src=\"http://127.0.0.1:8050/\"\n",
       "            frameborder=\"0\"\n",
       "            allowfullscreen\n",
       "        ></iframe>\n",
       "        "
      ],
      "text/plain": [
       "<IPython.lib.display.IFrame at 0x2f1462ddf40>"
      ]
     },
     "metadata": {},
     "output_type": "display_data"
    }
   ],
   "source": [
    "# Calling the autoplotter.run_app in inline mode\n",
    "run_app(df,mode = \"inline\")"
   ]
  },
  {
   "cell_type": "code",
   "execution_count": 8,
   "metadata": {},
   "outputs": [
    {
     "name": "stdout",
     "output_type": "stream",
     "text": [
      "AutoPlotter is running on http://127.0.0.1:8050/\n"
     ]
    }
   ],
   "source": [
    "# Calling the autoplotter.run_app in external mode\n",
    "run_app(df,mode='external')"
   ]
  },
  {
   "cell_type": "code",
   "execution_count": null,
   "metadata": {},
   "outputs": [],
   "source": []
  },
  {
   "cell_type": "code",
   "execution_count": null,
   "metadata": {},
   "outputs": [],
   "source": []
  },
  {
   "cell_type": "code",
   "execution_count": null,
   "metadata": {},
   "outputs": [],
   "source": []
  }
 ],
 "metadata": {
  "kernelspec": {
   "display_name": "Python 3",
   "language": "python",
   "name": "python3"
  },
  "language_info": {
   "codemirror_mode": {
    "name": "ipython",
    "version": 3
   },
   "file_extension": ".py",
   "mimetype": "text/x-python",
   "name": "python",
   "nbconvert_exporter": "python",
   "pygments_lexer": "ipython3",
   "version": "3.8.5"
  }
 },
 "nbformat": 4,
 "nbformat_minor": 4
}
